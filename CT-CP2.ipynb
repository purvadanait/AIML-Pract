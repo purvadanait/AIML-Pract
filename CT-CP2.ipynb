{
 "cells": [
  {
   "cell_type": "code",
   "execution_count": 1,
   "id": "a01005ce-c8dc-4cfb-ab36-af928c6660d2",
   "metadata": {},
   "outputs": [],
   "source": [
    "import control as ct\n",
    "import numpy as np\n",
    "import control.optimal as opt\n",
    "import matplotlib.pyplot as plt"
   ]
  },
  {
   "cell_type": "code",
   "execution_count": 2,
   "id": "01992bc4-0e81-4989-8b06-525444a9883f",
   "metadata": {},
   "outputs": [],
   "source": [
    "A = [[0.99, 0.01, 0.18, -0.09,   0],\n",
    "     [   0, 0.94,    0,  0.29,   0],\n",
    "     [   0, 0.14, 0.81,  -0.9,   0],\n",
    "     [   0, -0.2,    0,  0.95,   0],\n",
    "     [   0, 0.09,    0,     0, 0.9]]\n",
    "B = [[ 0.01, -0.02],\n",
    "     [-0.14,     0],\n",
    "     [ 0.05,  -0.2],\n",
    "     [ 0.02,     0],\n",
    "     [-0.01, 0]]\n",
    "C = [[0, 1, 0, 0, -1],\n",
    "     [0, 0, 1, 0,  0],\n",
    "     [0, 0, 0, 1,  0],\n",
    "     [1, 0, 0, 0,  0]]\n",
    "model = ct.ss2io(ct.ss(A, B, C, 0, 0.2))\n"
   ]
  },
  {
   "cell_type": "code",
   "execution_count": 8,
   "id": "1088824a-d0bc-475f-afcc-e8c7d7a5bac7",
   "metadata": {},
   "outputs": [],
   "source": [
    "sys = ct.ss2io(ct.ss(A, B, np.eye(5), 0, 0.2))\n",
    "\n",
    "ud = np.array([0.8, -0.3])\n",
    "xd = np.linalg.inv(np.eye(5) - A) @ B @ ud\n",
    "yd = C @ xd"
   ]
  },
  {
   "cell_type": "code",
   "execution_count": 9,
   "id": "56944065-b3c6-48aa-942b-fdfd6c55779c",
   "metadata": {},
   "outputs": [],
   "source": [
    "constraints = [opt.input_range_constraint(sys, [-5, -6], [5, 6])]\n",
    "\n",
    "Q = model.C.transpose() @ np.diag([10, 10, 10, 10]) @ model.C\n",
    "R = np.diag([3, 2])\n",
    "cost = opt.quadratic_cost(model, Q, R, x0=xd, u0=ud)\n",
    "\n",
    "ctrl = opt.create_mpc_iosystem(model, np.arange(0, 6) * 0.2, cost, constraints)"
   ]
  },
  {
   "cell_type": "code",
   "execution_count": 10,
   "id": "2ccec8de-cfd3-42e9-adaa-fda3126bc182",
   "metadata": {},
   "outputs": [
    {
     "name": "stdout",
     "output_type": "stream",
     "text": [
      "System: sys[6]\n",
      "Inputs (2): u[0], u[1], \n",
      "Outputs (5): y[0], y[1], y[2], y[3], y[4], \n",
      "States (17): sys[4]_x[0], sys[4]_x[1], sys[4]_x[2], sys[4]_x[3], sys[4]_x[4], sys[5]_x[0], sys[5]_x[1], sys[5]_x[2], sys[5]_x[3], sys[5]_x[4], sys[5]_x[5], sys[5]_x[6], sys[5]_x[7], sys[5]_x[8], sys[5]_x[9], sys[5]_x[10], sys[5]_x[11], \n"
     ]
    }
   ],
   "source": [
    "loop = ct.feedback(sys, ctrl, 1)\n",
    "print(loop)"
   ]
  },
  {
   "cell_type": "code",
   "execution_count": 11,
   "id": "39cc5b7c-ab6c-4f45-9c8e-775d60d8023c",
   "metadata": {},
   "outputs": [
    {
     "name": "stdout",
     "output_type": "stream",
     "text": [
      "Computation time = 13.6152 seconds\n"
     ]
    }
   ],
   "source": [
    "import time\n",
    "\n",
    "# loop = ClosedLoop(ctrl, model);\n",
    "# x0 = [0, 0, 0, 0, 0]\n",
    "Nsim = 60\n",
    "\n",
    "start = time.time()\n",
    "tout, xout = ct.input_output_response(loop, np.arange(0, Nsim) * 0.2, 0, 0)\n",
    "end = time.time()\n",
    "print(\"Computation time = %g seconds\" % (end-start))"
   ]
  },
  {
   "cell_type": "code",
   "execution_count": 12,
   "id": "de46f93a-5243-45a7-8d38-06534a764f4b",
   "metadata": {},
   "outputs": [
    {
     "data": {
      "text/plain": [
       "array([-0.15441668,  0.00362027,  0.07760195,  0.00675155,  0.00698112])"
      ]
     },
     "execution_count": 12,
     "metadata": {},
     "output_type": "execute_result"
    },
    {
     "data": {
      "image/png": "[encoded data removed]",
      "text/plain": [
       "<Figure size 432x288 with 1 Axes>"
      ]
     },
     "metadata": {
      "needs_background": "light"
     },
     "output_type": "display_data"
    }
   ],
   "source": [
    "for i, y in enumerate(C @ xout):\n",
    "    plt.plot(tout, y)\n",
    "    plt.plot(tout, yd[i] * np.ones(tout.shape), 'k--')\n",
    "plt.title('outputs')\n",
    "\n",
    "# plt.subplot(2, 1, 2)\n",
    "# plt.plot(t, u);\n",
    "# plot(np.range(Nsim), us*ones(1, Nsim), 'k--')\n",
    "# plt.title('inputs')\n",
    "\n",
    "plt.tight_layout()\n",
    "\n",
    "# Print the final error\n",
    "xd - xout[:,-1]"
   ]
  },
  {
   "cell_type": "code",
   "execution_count": null,
   "id": "13c021c1-19bb-4752-b4eb-0961cd08e3a8",
   "metadata": {},
   "outputs": [],
   "source": []
  }
 ],
 "metadata": {
  "kernelspec": {
   "display_name": "Python 3 (ipykernel)",
   "language": "python",
   "name": "python3"
  },
  "language_info": {
   "codemirror_mode": {
    "name": "ipython",
    "version": 3
   },
   "file_extension": ".py",
   "mimetype": "text/x-python",
   "name": "python",
   "nbconvert_exporter": "python",
   "pygments_lexer": "ipython3",
   "version": "3.10.1"
  }
 },
 "nbformat": 4,
 "nbformat_minor": 5
}
