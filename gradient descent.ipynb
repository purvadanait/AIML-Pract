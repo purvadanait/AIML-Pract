{
 "cells": [
  {
   "cell_type": "code",
   "execution_count": 2,
   "id": "f14b87d5-4ba0-4f34-a13e-d6b8cc4c158f",
   "metadata": {},
   "outputs": [],
   "source": [
    "import numpy as np\n",
    "import matplotlib.pyplot as plt\n",
    "%matplotlib inline"
   ]
  },
  {
   "cell_type": "code",
   "execution_count": 3,
   "id": "0924a1ce-0b66-4f33-be1d-fcd8dd11668b",
   "metadata": {},
   "outputs": [
    {
     "data": {
      "image/png": "[encoded data removed]",
      "text/plain": [
       "<Figure size 432x288 with 1 Axes>"
      ]
     },
     "metadata": {
      "needs_background": "light"
     },
     "output_type": "display_data"
    }
   ],
   "source": [
    "function = lambda x: (x ** 3)-(3*(x ** 2))+5\n",
    "\n",
    "x = np.linspace(-1,3,1000)\n",
    "\n",
    "plt.plot(x, function(x))\n",
    "plt.show()"
   ]
  },
  {
   "cell_type": "code",
   "execution_count": 8,
   "id": "b1f2dd5f-4ea3-401d-a3f2-a00a35d73ae8",
   "metadata": {},
   "outputs": [
    {
     "ename": "NameError",
     "evalue": "name 'x_new' is not defined",
     "output_type": "error",
     "traceback": [
      "\u001b[1;31m---------------------------------------------------------------------------\u001b[0m",
      "\u001b[1;31mNameError\u001b[0m                                 Traceback (most recent call last)",
      "\u001b[1;32m~\\AppData\\Local\\Temp/ipykernel_8580/539290487.py\u001b[0m in \u001b[0;36m<module>\u001b[1;34m\u001b[0m\n\u001b[0;32m      8\u001b[0m     \u001b[0mx_list\u001b[0m\u001b[1;33m,\u001b[0m \u001b[0my_list\u001b[0m \u001b[1;33m=\u001b[0m \u001b[1;33m[\u001b[0m\u001b[0mx_new\u001b[0m\u001b[1;33m]\u001b[0m\u001b[1;33m,\u001b[0m \u001b[1;33m[\u001b[0m\u001b[0mfunction\u001b[0m\u001b[1;33m(\u001b[0m\u001b[0mx_new\u001b[0m\u001b[1;33m)\u001b[0m\u001b[1;33m]\u001b[0m\u001b[1;33m\u001b[0m\u001b[1;33m\u001b[0m\u001b[0m\n\u001b[0;32m      9\u001b[0m \u001b[1;31m# keep looping until your desired precision\u001b[0m\u001b[1;33m\u001b[0m\u001b[1;33m\u001b[0m\u001b[0m\n\u001b[1;32m---> 10\u001b[1;33m \u001b[1;32mwhile\u001b[0m \u001b[0mabs\u001b[0m\u001b[1;33m(\u001b[0m\u001b[0mx_new\u001b[0m \u001b[1;33m-\u001b[0m \u001b[0mx_prev\u001b[0m\u001b[1;33m)\u001b[0m \u001b[1;33m>\u001b[0m \u001b[0mprecision\u001b[0m\u001b[1;33m:\u001b[0m\u001b[1;33m\u001b[0m\u001b[1;33m\u001b[0m\u001b[0m\n\u001b[0m\u001b[0;32m     11\u001b[0m \u001b[1;33m\u001b[0m\u001b[0m\n\u001b[0;32m     12\u001b[0m     \u001b[1;31m# change the value of x\u001b[0m\u001b[1;33m\u001b[0m\u001b[1;33m\u001b[0m\u001b[0m\n",
      "\u001b[1;31mNameError\u001b[0m: name 'x_new' is not defined"
     ]
    }
   ],
   "source": [
    "def deriv(x):\n",
    "\n",
    "    x_deriv = 3* (x**2) - (6 * (x))\n",
    "    return x_deriv\n",
    "\n",
    "def step(x_new = 1.0, x_prev = 0, precision = 0.001, l_r = 0.05):\n",
    " \n",
    "    x_list, y_list = [x_new], [function(x_new)]\n",
    "# keep looping until your desired precision\n",
    "while abs(x_new - x_prev) > precision:\n",
    "    \n",
    "    # change the value of x\n",
    "    x_prev = x_new\n",
    "    \n",
    "# get the derivation of the old value of x\n",
    "    d_x = - deriv(x_prev)\n",
    "    \n",
    "    # get your new value of x by adding the previous, the multiplication of the derivative and the learning rate\n",
    "    x_new = x_prev + (l_r * d_x)\n",
    "    \n",
    "    # append the new value of x to a list of all x-s for later visualization of path\n",
    "    x_list.append(x_new)\n",
    "    \n",
    "    # append the new value of y to a list of all y-s for later visualization of path\n",
    "    y_list.append(function(x_new))\n",
    "\n",
    "    step(0.5, 0, 0.001, 0.05)\n",
    "\n",
    "print (\"Local minimum occurs at: \"+ str(x_new))\n",
    "print (\"Number of steps: \" + str(len(x_list)))\n",
    "    \n",
    "    \n",
    "plt.subplot(1,2,2)\n",
    "plt.scatter(x_list,y_list,c=\"g\")\n",
    "plt.plot(x_list,y_list,c=\"g\")\n",
    "plt.plot(x,function(x), c=\"r\")\n",
    "plt.title(\"Gradient descent\")\n",
    "plt.show()\n"
   ]
  },
  {
   "cell_type": "code",
   "execution_count": null,
   "id": "f1be7600-a3f1-4bfe-b234-b72f608e5460",
   "metadata": {},
   "outputs": [],
   "source": []
  }
 ],
 "metadata": {
  "kernelspec": {
   "display_name": "Python 3 (ipykernel)",
   "language": "python",
   "name": "python3"
  },
  "language_info": {
   "codemirror_mode": {
    "name": "ipython",
    "version": 3
   },
   "file_extension": ".py",
   "mimetype": "text/x-python",
   "name": "python",
   "nbconvert_exporter": "python",
   "pygments_lexer": "ipython3",
   "version": "3.10.4"
  }
 },
 "nbformat": 4,
 "nbformat_minor": 5
}
